{
 "cells": [
  {
   "cell_type": "code",
   "execution_count": 1,
   "id": "7b90fc5f-0ef4-4a02-815e-1602abda8b6d",
   "metadata": {},
   "outputs": [],
   "source": [
    "import pickle\n",
    "import numpy as np\n",
    "import pandas as pd"
   ]
  },
  {
   "cell_type": "code",
   "execution_count": 2,
   "id": "434d4f5b-70dc-4550-8aa1-544e70c5f76d",
   "metadata": {},
   "outputs": [],
   "source": [
    "pipe = pickle.load(open(\"pipe.pkl\",\"rb\"))"
   ]
  },
  {
   "cell_type": "code",
   "execution_count": 3,
   "id": "509b6689-4586-4bac-bb1b-c471c58649bc",
   "metadata": {},
   "outputs": [
    {
     "name": "stdout",
     "output_type": "stream",
     "text": [
      "[1]\n"
     ]
    }
   ],
   "source": [
    "input_data = ['Male', 'Yes', 0, 'Graduate', 'No', 4583, 1508, 128, 360, 1, 'Urban']\n",
    "columns = [\n",
    "    'Gender', 'Married', 'Dependents', 'Education', 'Self_Employed',\n",
    "    'ApplicantIncome', 'CoapplicantIncome', 'LoanAmount', 'Loan_Amount_Term',\n",
    "    'Credit_History', 'Property_Area'\n",
    "]\n",
    "\n",
    "input_df = pd.DataFrame([input_data], columns=columns)\n",
    "result = pipe.predict(input_df)\n",
    "print(result)"
   ]
  },
  {
   "cell_type": "code",
   "execution_count": null,
   "id": "36a93116-d472-41cf-9cb3-ee9594c1afb3",
   "metadata": {},
   "outputs": [],
   "source": []
  }
 ],
 "metadata": {
  "kernelspec": {
   "display_name": "Python 3 (ipykernel)",
   "language": "python",
   "name": "python3"
  },
  "language_info": {
   "codemirror_mode": {
    "name": "ipython",
    "version": 3
   },
   "file_extension": ".py",
   "mimetype": "text/x-python",
   "name": "python",
   "nbconvert_exporter": "python",
   "pygments_lexer": "ipython3",
   "version": "3.13.2"
  }
 },
 "nbformat": 4,
 "nbformat_minor": 5
}
